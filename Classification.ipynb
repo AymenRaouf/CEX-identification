{
 "cells": [
  {
   "cell_type": "markdown",
   "metadata": {},
   "source": [
    "## Data engineering and preparation"
   ]
  },
  {
   "cell_type": "code",
   "execution_count": 26,
   "metadata": {},
   "outputs": [
    {
     "data": {
      "text/plain": [
       "prediction\n",
       "0    8317\n",
       "1     302\n",
       "Name: count, dtype: int64"
      ]
     },
     "execution_count": 26,
     "metadata": {},
     "output_type": "execute_result"
    }
   ],
   "source": [
    "import pandas as pd \n",
    "\n",
    "df_seed_labels = pd.read_csv('./Data/seed_labels.csv')\n",
    "df_seed_labels['prediction'].value_counts()"
   ]
  },
  {
   "cell_type": "code",
   "execution_count": 27,
   "metadata": {},
   "outputs": [],
   "source": [
    "# Prepare transaction data\n",
    "df_transcation_native = pd.read_parquet('./Data/transaction_native_seeder.parquet')\n",
    "df_transcation_token = pd.read_parquet('./Data/transaction_token_seeder.parquet')\n",
    "\n",
    "df_transcation_native_clean = df_transcation_native[df_transcation_native['FROM_ADDRESS'].notna() & df_transcation_native['TO_ADDRESS'].notna()]\n",
    "df_transcation_token_clean = df_transcation_token[df_transcation_token['FROM_ADDRESS'].notna() & df_transcation_token['TO_ADDRESS'].notna()]\n",
    "\n",
    "df_transcation_native_clean = pd.merge(df_seed_labels, df_transcation_native_clean, left_on='eoa', right_on='FROM_ADDRESS', how='inner')\n",
    "df_transcation_native_clean = pd.merge(df_seed_labels, df_transcation_native_clean, left_on='eoa', right_on='TO_ADDRESS', how='inner')\n",
    "df_transcation_token_clean = pd.merge(df_seed_labels, df_transcation_token_clean, left_on='eoa', right_on='FROM_ADDRESS', how='inner')\n",
    "df_transcation_token_clean = pd.merge(df_seed_labels, df_transcation_token_clean, left_on='eoa', right_on='TO_ADDRESS', how='inner')\n",
    "\n",
    "df_transcation_native_clean = df_transcation_native_clean[df_transcation_native_clean['FROM_ADDRESS'].notna() & df_transcation_native_clean['TO_ADDRESS'].notna()]\n",
    "df_transcation_token_clean = df_transcation_token_clean[df_transcation_token_clean['TO_ADDRESS'].notna() & df_transcation_token_clean['TO_ADDRESS'].notna()]\n"
   ]
  },
  {
   "cell_type": "code",
   "execution_count": 28,
   "metadata": {},
   "outputs": [],
   "source": [
    "import networkx as nx\n",
    "\n",
    "G = nx.MultiDiGraph()\n",
    "\n",
    "for _, row in df_transcation_native_clean.iterrows():\n",
    "    G.add_edge(row['FROM_ADDRESS'], row['TO_ADDRESS'], weight = row['AMOUNT_USD'])\n",
    "\n",
    "for _, row in df_transcation_token_clean.iterrows():\n",
    "    G.add_edge(row['FROM_ADDRESS'], row['TO_ADDRESS'], weight = row['AMOUNT_USD'])"
   ]
  },
  {
   "cell_type": "code",
   "execution_count": 29,
   "metadata": {},
   "outputs": [],
   "source": [
    "from torch_geometric.utils import from_networkx\n",
    "import numpy as np\n",
    "import torch\n",
    "\n",
    "G_int = nx.convert_node_labels_to_integers(G)\n",
    "\n",
    "data = from_networkx(G_int)\n",
    "data.x = torch.tensor([np.random.rand(128) for i in G_int.nodes()], dtype=torch.float)\n",
    "data.edge_attr = torch.tensor([edge[2]['weight'] for edge in G.edges(data=True)], dtype=torch.float)\n"
   ]
  },
  {
   "cell_type": "code",
   "execution_count": 30,
   "metadata": {},
   "outputs": [
    {
     "name": "stderr",
     "output_type": "stream",
     "text": [
      "/tmp/ipykernel_129199/990522802.py:4: SettingWithCopyWarning: \n",
      "A value is trying to be set on a copy of a slice from a DataFrame.\n",
      "Try using .loc[row_indexer,col_indexer] = value instead\n",
      "\n",
      "See the caveats in the documentation: https://pandas.pydata.org/pandas-docs/stable/user_guide/indexing.html#returning-a-view-versus-a-copy\n",
      "  y_df['eoa'] = pd.Categorical(y_df['eoa'], categories=list(G.nodes()), ordered=True)\n"
     ]
    },
    {
     "data": {
      "text/plain": [
       "array([0, 0, 1, ..., 0, 0, 1])"
      ]
     },
     "execution_count": 30,
     "metadata": {},
     "output_type": "execute_result"
    }
   ],
   "source": [
    "# Prepare target variables\n",
    "y_df = df_seed_labels[df_seed_labels['eoa'].isin(list(G.nodes()))]\n",
    "y_df[y_df['eoa'] == G.nodes()]['prediction'].head()\n",
    "y_df['eoa'] = pd.Categorical(y_df['eoa'], categories=list(G.nodes()), ordered=True)\n",
    "y = y_df.sort_values('eoa')['prediction'].values\n",
    "data.y = torch.tensor(y, dtype=torch.float)\n",
    "y"
   ]
  },
  {
   "cell_type": "markdown",
   "metadata": {},
   "source": [
    "## Model creation and training"
   ]
  },
  {
   "cell_type": "code",
   "execution_count": 37,
   "metadata": {},
   "outputs": [
    {
     "name": "stdout",
     "output_type": "stream",
     "text": [
      "Epoch 0, Loss: 0.9602\n",
      "Epoch 100, Loss: 0.0634\n"
     ]
    }
   ],
   "source": [
    "from models import NodeClassifier\n",
    "\n",
    "cex_model = NodeClassifier(in_channels=128, hidden_channels=32, out_channels=1)\n",
    "optimizer = torch.optim.Adam(cex_model.parameters(), lr=1e-3, weight_decay=5e-4)\n",
    "loss_fn = torch.nn.BCELoss()\n",
    "loss_values = []\n",
    "torch.nn.utils.clip_grad_norm_(cex_model.parameters(), max_norm=1.0)\n",
    "\n",
    "epochs = 200\n",
    "\n",
    "data.edge_attr = torch.nan_to_num(data.edge_attr, nan=0.0)\n",
    "\n",
    "for epoch in range(epochs):\n",
    "    cex_model.train()\n",
    "    optimizer.zero_grad()\n",
    "    out = cex_model(data.x, data.edge_index, data.edge_attr)\n",
    "    if torch.isnan(data.edge_attr).any():\n",
    "        print(\"NaN detected in output!\")\n",
    "        break\n",
    "    loss = loss_fn(out.squeeze(), data.y)\n",
    "    loss.backward()\n",
    "    torch.nn.utils.clip_grad_norm_(cex_model.parameters(), max_norm=1.0)\n",
    "    optimizer.step()\n",
    "    loss_values.append(loss.item())\n",
    "    if epoch % 100 == 0:\n",
    "        print(f\"Epoch {epoch}, Loss: {loss.item():.4f}\")"
   ]
  },
  {
   "cell_type": "code",
   "execution_count": 38,
   "metadata": {},
   "outputs": [
    {
     "data": {
      "image/png": "[encoded data removed]",
      "text/plain": [
       "<Figure size 640x480 with 1 Axes>"
      ]
     },
     "metadata": {},
     "output_type": "display_data"
    }
   ],
   "source": [
    "import matplotlib.pyplot as plt\n",
    "\n",
    "plt.plot(range(epochs), loss_values, linestyle='-', color='b', label='Loss')\n",
    "plt.title('Loss during Training for Node Classification')\n",
    "plt.xlabel('Epochs')\n",
    "plt.ylabel('Loss')\n",
    "plt.legend()\n",
    "plt.grid(True)\n",
    "plt.show()"
   ]
  },
  {
   "cell_type": "code",
   "execution_count": 39,
   "metadata": {},
   "outputs": [
    {
     "name": "stdout",
     "output_type": "stream",
     "text": [
      "Overall Accuracy after training : 0.9899\n"
     ]
    }
   ],
   "source": [
    "cex_model.eval()\n",
    "_, pred = cex_model(data.x, data.edge_index, data.edge_attr).max(dim=1)\n",
    "\n",
    "# Accuracy on test nodes\n",
    "correct = (pred == data.y).sum()\n",
    "acc = int(correct) / int(data['num_nodes'])\n",
    "print(f\"Overall Accuracy after training : {acc:.4f}\")"
   ]
  },
  {
   "cell_type": "code",
   "execution_count": 40,
   "metadata": {},
   "outputs": [
    {
     "data": {
      "text/plain": [
       "False"
      ]
     },
     "execution_count": 40,
     "metadata": {},
     "output_type": "execute_result"
    }
   ],
   "source": [
    "1 in pred"
   ]
  },
  {
   "cell_type": "markdown",
   "metadata": {},
   "source": [
    "### Discussion \n",
    "-A simple model was created : attention layer + convolution layer\n",
    "\n",
    "-The features for the nodes and the transactions need to be enriched\n",
    "\n",
    "-Data splitting needs to be done and more careful data preparation needs to be put into place\n",
    "\n",
    "-Add grid search to look for the best parameters of the model\n",
    "\n",
    "-Cross-validation can be helpful to better evaluation the model\n",
    "\n",
    "-Using an improved model, better results can be obtained"
   ]
  }
 ],
 "metadata": {
  "kernelspec": {
   "display_name": "cex_env",
   "language": "python",
   "name": "python3"
  },
  "language_info": {
   "codemirror_mode": {
    "name": "ipython",
    "version": 3
   },
   "file_extension": ".py",
   "mimetype": "text/x-python",
   "name": "python",
   "nbconvert_exporter": "python",
   "pygments_lexer": "ipython3",
   "version": "3.10.8"
  }
 },
 "nbformat": 4,
 "nbformat_minor": 2
}
